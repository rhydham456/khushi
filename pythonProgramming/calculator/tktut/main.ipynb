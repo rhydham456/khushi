{
 "cells": [
  {
   "cell_type": "code",
   "execution_count": null,
   "metadata": {},
   "outputs": [],
   "source": [
    "from tkinter import *\n",
    "from PIL import Image,ImageTk\n",
    "from tkinter import messagebox\n",
    "from random import choice\n",
    "\n",
    "window = Tk()\n",
    "window.geometry('300x300')\n",
    "noList = ['are you sure about that buddy?','think again','really :( ?','umm think again']\n",
    "def prank():\n",
    "    bool = messagebox.askyesno(choice(noList))\n",
    "    if bool==True:\n",
    "        messagebox.askyesno(choice(noList))\n",
    "        prank()\n",
    "    if bool==False:\n",
    "        return\n",
    "def noprank():\n",
    "    bool = messagebox.askyesno(\"aww thankyou <3\")\n",
    "    exit()\n",
    "mainLabel = Label(text=\"Do you love me:\")\n",
    "mainLabel.grid(row=0,column=1)\n",
    "yesButton = Button(text='yes',command=noprank)\n",
    "noButton = Button(text='no',command=prank)\n",
    "yesButton.grid(row=1,column=2)\n",
    "noButton.grid(row=1,column=3)\n",
    "window.mainloop()"
   ]
  }
 ],
 "metadata": {
  "kernelspec": {
   "display_name": "Python 3",
   "language": "python",
   "name": "python3"
  },
  "language_info": {
   "codemirror_mode": {
    "name": "ipython",
    "version": 3
   },
   "file_extension": ".py",
   "mimetype": "text/x-python",
   "name": "python",
   "nbconvert_exporter": "python",
   "pygments_lexer": "ipython3",
   "version": "3.10.12"
  }
 },
 "nbformat": 4,
 "nbformat_minor": 2
}
