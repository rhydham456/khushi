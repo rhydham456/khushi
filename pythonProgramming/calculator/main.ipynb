{
 "cells": [
  {
   "cell_type": "code",
   "execution_count": 7,
   "metadata": {},
   "outputs": [],
   "source": [
    "calculation = str(input(\"enter your calculation\"))"
   ]
  },
  {
   "cell_type": "code",
   "execution_count": 8,
   "metadata": {},
   "outputs": [
    {
     "name": "stdout",
     "output_type": "stream",
     "text": [
      "6*7\n",
      "[6, 7]\n",
      "result is 42\n",
      "2+3-42\n"
     ]
    }
   ],
   "source": [
    "bracketIndex = []\n",
    "for index in range(0,len(calculation)):\n",
    "    if calculation[index]=='(':\n",
    "        bracketIndex.append(index)\n",
    "    if calculation[index]==')':\n",
    "        bracketIndex.append(index)\n",
    "\n",
    "bracketSignIndex = []\n",
    "bracketCalculation = calculation[bracketIndex[0]+1:bracketIndex[1]]\n",
    "print(bracketCalculation)\n",
    "for index in range(0,len(bracketCalculation)):\n",
    "    if bracketCalculation[index]=='+' or bracketCalculation[index]=='-' or bracketCalculation[index]=='/' or bracketCalculation[index]=='*':\n",
    "       bracketSignIndex.append(index)\n",
    "# print(bracketCalculation[bracketSignIndex[0]:])\n",
    "bracketCalculationNumber = [int(bracketCalculation[:bracketSignIndex[0]]),int(bracketCalculation[bracketSignIndex[0]+1:])]\n",
    "print(bracketCalculationNumber)\n",
    "if bracketCalculation[bracketSignIndex[0]]=='+':\n",
    "    result = bracketCalculationNumber[0]+bracketCalculationNumber[1]\n",
    "    print(f'result is {result}')\n",
    "if bracketCalculation[bracketSignIndex[0]]=='-':\n",
    "    result = bracketCalculationNumber[0]-bracketCalculationNumber[1]\n",
    "    print(f'result is {result}')\n",
    "if bracketCalculation[bracketSignIndex[0]]=='/':\n",
    "    result = float(bracketCalculationNumber[0]/bracketCalculationNumber[1])\n",
    "    print(f'result is {result}')\n",
    "if bracketCalculation[bracketSignIndex[0]]=='*':\n",
    "    result = bracketCalculationNumber[0]*bracketCalculationNumber[1]\n",
    "    print(f'result is {result}')\n",
    "\n",
    "newCalculation = calculation.replace('('+bracketCalculation+\")\",str(result))\n",
    "print(newCalculation)"
   ]
  },
  {
   "cell_type": "code",
   "execution_count": 9,
   "metadata": {},
   "outputs": [
    {
     "name": "stdout",
     "output_type": "stream",
     "text": [
      "[0, 1, 3, 6]\n",
      "-37\n"
     ]
    }
   ],
   "source": [
    "signIndex = [0,len(newCalculation)]\n",
    "numberList = []\n",
    "mainCalculation:int = 0\n",
    "for index in range(0,len(newCalculation)):\n",
    "    if newCalculation[index]=='+' or  newCalculation[index]=='-' or  newCalculation[index]=='*' or  newCalculation[index]=='/' :\n",
    "        signIndex.append(index)\n",
    "signIndex.sort()\n",
    "print(signIndex)\n",
    "\n",
    "for index in range(1,len(signIndex)):\n",
    "    numberList.append(newCalculation[signIndex[index-1]:signIndex[index]])\n",
    "for item in numberList:\n",
    "    mainCalculation+=int(item)\n",
    "print(mainCalculation)"
   ]
  }
 ],
 "metadata": {
  "kernelspec": {
   "display_name": "Python 3",
   "language": "python",
   "name": "python3"
  },
  "language_info": {
   "codemirror_mode": {
    "name": "ipython",
    "version": 3
   },
   "file_extension": ".py",
   "mimetype": "text/x-python",
   "name": "python",
   "nbconvert_exporter": "python",
   "pygments_lexer": "ipython3",
   "version": "3.10.12"
  }
 },
 "nbformat": 4,
 "nbformat_minor": 2
}
