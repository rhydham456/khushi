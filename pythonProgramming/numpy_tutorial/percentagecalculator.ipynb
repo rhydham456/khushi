{
 "cells": [
  {
   "cell_type": "markdown",
   "metadata": {},
   "source": [
    "**Percentage Calculator using advanced modules**\n"
   ]
  },
  {
   "cell_type": "code",
   "execution_count": 41,
   "metadata": {},
   "outputs": [],
   "source": [
    "import numpy as np"
   ]
  },
  {
   "cell_type": "markdown",
   "metadata": {},
   "source": [
    "**Creating a program to find percetage of 3 students at once**"
   ]
  },
  {
   "cell_type": "code",
   "execution_count": 46,
   "metadata": {},
   "outputs": [],
   "source": [
    "emptyArray = np.empty((3,3))\n",
    "for arrayindex in range(0,len(emptyArray)):\n",
    "    for itemindex in range(0,len(emptyArray[arrayindex])):\n",
    "        emptyArray[arrayindex,itemindex] = int(input(f'enter the marks of student {arrayindex+1} in subject {itemindex+1}:'))"
   ]
  },
  {
   "cell_type": "code",
   "execution_count": 47,
   "metadata": {},
   "outputs": [
    {
     "name": "stdout",
     "output_type": "stream",
     "text": [
      "[[56. 67. 78.]\n",
      " [80. 67. 67.]\n",
      " [78. 80. 56.]]\n",
      "percentage of student 1 is 83.75%\n",
      "percentage of student 2 is 89.16666666666667%\n",
      "percentage of student 3 is 89.16666666666667%\n"
     ]
    }
   ],
   "source": [
    "print(emptyArray)\n",
    "sumArray = emptyArray.sum(axis = 1)\n",
    "for index in range(0,len(sumArray)):\n",
    "    print(f\"percentage of student {index+1} is {(sumArray[index]/240)*100}%\")"
   ]
  }
 ],
 "metadata": {
  "kernelspec": {
   "display_name": "Python 3",
   "language": "python",
   "name": "python3"
  },
  "language_info": {
   "codemirror_mode": {
    "name": "ipython",
    "version": 3
   },
   "file_extension": ".py",
   "mimetype": "text/x-python",
   "name": "python",
   "nbconvert_exporter": "python",
   "pygments_lexer": "ipython3",
   "version": "3.10.12"
  }
 },
 "nbformat": 4,
 "nbformat_minor": 2
}
