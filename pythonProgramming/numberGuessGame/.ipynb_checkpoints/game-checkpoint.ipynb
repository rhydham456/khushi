{
 "cells": [
  {
   "cell_type": "markdown",
   "metadata": {},
   "source": [
    "**Creating a NumberGuessingGame**"
   ]
  },
  {
   "cell_type": "code",
   "execution_count": 2,
   "metadata": {},
   "outputs": [],
   "source": [
    "import random"
   ]
  },
  {
   "cell_type": "markdown",
   "metadata": {},
   "source": [
    "**Generating a Number between 0 and 23**"
   ]
  },
  {
   "cell_type": "code",
   "execution_count": 20,
   "metadata": {},
   "outputs": [],
   "source": [
    "r = random.randint(0,23)\n"
   ]
  },
  {
   "cell_type": "markdown",
   "metadata": {},
   "source": [
    "**Defining Logics of the Game**"
   ]
  },
  {
   "cell_type": "code",
   "execution_count": 21,
   "metadata": {},
   "outputs": [
    {
     "name": "stdout",
     "output_type": "stream",
     "text": [
      "your guess is greater than real try again:\n",
      "your guess is greater than real try again:\n",
      "your guess is greater than real try again:\n",
      "your guess is greater than real try again:\n",
      "your guess is greater than real try again:\n",
      "your guess is greater than real try again:\n",
      "your guess is less than the real try again\n",
      "your guess is correct you guessed in 7 tries \n"
     ]
    }
   ],
   "source": [
    "turn:int = 0\n",
    "while True:\n",
    "    guess = int(input(\"what do you think the number is:\"))\n",
    "    if guess < r:\n",
    "        print(\"your guess is less than the real try again\")\n",
    "        turn+=1\n",
    "        continue\n",
    "    elif guess > r:\n",
    "        print(\"your guess is greater than real try again:\")\n",
    "        turn+=1\n",
    "        continue\n",
    "    elif guess==r:\n",
    "        print(f\"your guess is correct you guessed in {turn} tries \")\n",
    "        break\n"
   ]
  }
 ],
 "metadata": {
  "kernelspec": {
   "display_name": "Python 3",
   "language": "python",
   "name": "python3"
  },
  "language_info": {
   "codemirror_mode": {
    "name": "ipython",
    "version": 3
   },
   "file_extension": ".py",
   "mimetype": "text/x-python",
   "name": "python",
   "nbconvert_exporter": "python",
   "pygments_lexer": "ipython3",
   "version": "3.10.12"
  }
 },
 "nbformat": 4,
 "nbformat_minor": 2
}
