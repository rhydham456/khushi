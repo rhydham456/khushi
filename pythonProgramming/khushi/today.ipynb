{
 "cells": [
  {
   "cell_type": "markdown",
   "metadata": {},
   "source": [
    "## loops in python"
   ]
  },
  {
   "cell_type": "markdown",
   "metadata": {},
   "source": [
    "### for loop"
   ]
  },
  {
   "cell_type": "code",
   "execution_count": 6,
   "metadata": {},
   "outputs": [
    {
     "name": "stdout",
     "output_type": "stream",
     "text": [
      "0\n",
      "1\n",
      "2\n",
      "3\n",
      "4\n",
      "5\n",
      "6\n",
      "khushi\n",
      "rhydham\n",
      "hello\n",
      "world\n",
      "khushi\n",
      "rhydham\n",
      "hello\n",
      "world\n",
      "m\n",
      "y\n",
      " \n",
      "n\n",
      "a\n",
      "m\n",
      "e\n",
      " \n",
      "i\n",
      "s\n",
      " \n",
      "r\n",
      "h\n",
      "y\n",
      "d\n",
      "h\n",
      "a\n",
      "m\n",
      "my name is rhydhamm\n",
      "\n",
      "y\n",
      "\n",
      " \n",
      "\n",
      "n\n",
      "\n",
      "a\n",
      "\n",
      "m\n",
      "\n",
      "e\n",
      "\n",
      " \n",
      "\n",
      "i\n",
      "\n",
      "s\n",
      "\n",
      " \n",
      "\n",
      "r\n",
      "\n",
      "h\n",
      "\n",
      "y\n",
      "\n",
      "d\n",
      "\n",
      "h\n",
      "\n",
      "a\n",
      "\n",
      "m\n",
      "\n"
     ]
    }
   ],
   "source": [
    "# printing numbers \n",
    "for i in range(0,7):\n",
    "    print(i)\n",
    "# iterating through sequences [string,list,tuple,set]\n",
    "myList = ['khushi','rhydham','hello','world']\n",
    "for item in myList:\n",
    "    print(item)\n",
    "for i in range(0,len(myList)):\n",
    "    print(myList[i])\n",
    "# iterating through strings \n",
    "myString = 'my name is rhydham'\n",
    "for item in myString:\n",
    "    print(item)\n",
    "for i in range(0,len(myString)):\n",
    "    print(myString[i],end='')\n",
    "for i in range(0,len(myString)):\n",
    "    print(f'{myString[i]}\\n')"
   ]
  },
  {
   "cell_type": "markdown",
   "metadata": {},
   "source": [
    "### for loop with else"
   ]
  },
  {
   "cell_type": "code",
   "execution_count": 8,
   "metadata": {},
   "outputs": [
    {
     "name": "stdout",
     "output_type": "stream",
     "text": [
      "0\n",
      "1\n",
      "2\n",
      "3\n",
      "4\n",
      "for ends here\n"
     ]
    }
   ],
   "source": [
    "# for-else \n",
    "for i in range(0,5):\n",
    "    print(i)\n",
    "else:#it is executed when for loop ends\n",
    "    print(\"for ends here\")\n"
   ]
  },
  {
   "cell_type": "markdown",
   "metadata": {},
   "source": [
    "### while loop"
   ]
  },
  {
   "cell_type": "code",
   "execution_count": 3,
   "metadata": {},
   "outputs": [
    {
     "name": "stdout",
     "output_type": "stream",
     "text": [
      "1\n",
      "2\n",
      "3\n",
      "4\n",
      "5\n"
     ]
    }
   ],
   "source": [
    "# finite loop \n",
    "a = 1\n",
    "while (a<10):\n",
    "    print(a)\n",
    "    elif a==5:#it will break at 5 and 5 will be printed on screen\n",
    "        break\n",
    "    a+=1 #a=a+1 or in C(a++)"
   ]
  },
  {
   "cell_type": "code",
   "execution_count": null,
   "metadata": {},
   "outputs": [],
   "source": [
    "#infinite loop\n",
    "while True:\n",
    "    #function da kaam\n",
    "    print(\"hello world\")\n",
    "\n",
    "#it runs only when condition is true and here a is not changing therfore it will be a infinite loop\n",
    "while (a<10):\n",
    "    print(a)\n",
    "    "
   ]
  },
  {
   "cell_type": "markdown",
   "metadata": {},
   "source": [
    "### break statement"
   ]
  },
  {
   "cell_type": "code",
   "execution_count": 2,
   "metadata": {},
   "outputs": [
    {
     "name": "stdout",
     "output_type": "stream",
     "text": [
      "hello\n",
      "hello\n",
      "hello\n",
      "hello\n",
      "hello\n",
      "hello\n",
      "hello\n",
      "hello\n",
      "hello\n",
      "hello\n"
     ]
    }
   ],
   "source": [
    "# break statement is used to exit loops at specific condition \n",
    "a = 0\n",
    "while True:\n",
    "    print(\"hello\")\n",
    "    a+=1\n",
    "    elif a==10:\n",
    "        break"
   ]
  },
  {
   "cell_type": "markdown",
   "metadata": {},
   "source": [
    "### continue function"
   ]
  },
  {
   "cell_type": "code",
   "execution_count": 15,
   "metadata": {},
   "outputs": [
    {
     "name": "stdout",
     "output_type": "stream",
     "text": [
      "1\n",
      "2\n",
      "3\n"
     ]
    }
   ],
   "source": [
    "c =1\n",
    "while True:\n",
    "    elif c<4:\n",
    "        print(c)#it will print 1,2,3\n",
    "    else:\n",
    "        c=1\n",
    "        continue #it will return the program to elif condition\n",
    "    c+=1\n",
    "# elif \n",
    "\n",
    "# elif\n",
    "# elif-continue\n",
    "# elif\n",
    "# else\n",
    "# loop elif else "
   ]
  },
  {
   "cell_type": "code",
   "execution_count": 8,
   "metadata": {},
   "outputs": [
    {
     "name": "stdout",
     "output_type": "stream",
     "text": [
      "it is divisible by 2\n",
      "it is divisible by 6\n"
     ]
    }
   ],
   "source": [
    "c = 48\n",
    "elif c%2==0:\n",
    "    print(\"it is divisible by 2\")\n",
    "    elif c%6==0:\n",
    "        print(\"it is divisible by 6\")\n",
    "\n",
    "elif c%7==0:\n",
    "    print(\"it is divisible by 7\")"
   ]
  },
  {
   "cell_type": "markdown",
   "metadata": {},
   "source": [
    "### pass statement"
   ]
  },
  {
   "cell_type": "code",
   "execution_count": 12,
   "metadata": {},
   "outputs": [],
   "source": [
    "#it is used when you have to define a dummy function\n",
    "#eat 5 star do nothing\n",
    "def get_my_name(name):\n",
    "    pass\n",
    "# calculator\n",
    "# sum,sub,pro,div\n",
    "def sum(a,b):\n",
    "    pass"
   ]
  },
  {
   "cell_type": "markdown",
   "metadata": {},
   "source": [
    "### some practice problems (for loop and while loop)"
   ]
  },
  {
   "cell_type": "markdown",
   "metadata": {},
   "source": [
    "#### print table of 5 using for loop"
   ]
  },
  {
   "cell_type": "code",
   "execution_count": 14,
   "metadata": {},
   "outputs": [
    {
     "name": "stdout",
     "output_type": "stream",
     "text": [
      "0\n",
      "5\n",
      "10\n",
      "15\n",
      "20\n",
      "25\n",
      "30\n",
      "35\n",
      "40\n",
      "45\n",
      "50\n",
      "5\n",
      "10\n",
      "15\n",
      "20\n",
      "25\n",
      "30\n",
      "35\n",
      "40\n",
      "45\n",
      "50\n"
     ]
    }
   ],
   "source": [
    "for i in range(0,51):\n",
    "    elif i%5==0:\n",
    "        print(i)\n",
    "for i in range(1,11):\n",
    "    print(5*i)"
   ]
  },
  {
   "cell_type": "markdown",
   "metadata": {},
   "source": [
    "#### use for loop to greet all the users given in the list ['khushi','rhydham','anything','not anything]"
   ]
  },
  {
   "cell_type": "code",
   "execution_count": null,
   "metadata": {},
   "outputs": [],
   "source": []
  },
  {
   "cell_type": "markdown",
   "metadata": {},
   "source": [
    "#### using for loop print basic star pattern"
   ]
  },
  {
   "cell_type": "code",
   "execution_count": 16,
   "metadata": {},
   "outputs": [
    {
     "name": "stdout",
     "output_type": "stream",
     "text": [
      "\n",
      "\n",
      "*\n",
      "\n",
      "**\n",
      "\n",
      "***\n",
      "\n",
      "****\n",
      "\n",
      "*****\n",
      "\n",
      "******\n",
      "\n"
     ]
    }
   ],
   "source": [
    "# *\n",
    "# **\n",
    "# ***\n",
    "# ****\n",
    "# basic tareeka [c waala tareeka]\n",
    "for i in range(0,7):\n",
    "    for j in range(0,i):\n",
    "        print('*',end='')\n",
    "    print(\"\\n\")"
   ]
  },
  {
   "cell_type": "code",
   "execution_count": 47,
   "metadata": {},
   "outputs": [
    {
     "name": "stdout",
     "output_type": "stream",
     "text": [
      "*\n",
      "**\n",
      "***\n",
      "****\n",
      "*\n",
      "**\n",
      "***\n",
      "****\n"
     ]
    }
   ],
   "source": [
    "# *         \n",
    "# **\n",
    "# ***\n",
    "# ****\n",
    "for i in range(1,5):\n",
    "    print(\"*\"*i)"
   ]
  },
  {
   "cell_type": "code",
   "execution_count": null,
   "metadata": {},
   "outputs": [],
   "source": [
    "for i in range(0,5):\n",
    "    for j in range(0,i):\n",
    "        print(\"*\",end='')\n",
    "    print(\"\\n\")\n",
    "# i=0,j=1 #print('*')\n",
    "i=1,j=0 #print('*')"
   ]
  },
  {
   "cell_type": "code",
   "execution_count": 34,
   "metadata": {},
   "outputs": [
    {
     "name": "stdout",
     "output_type": "stream",
     "text": [
      "      *\n",
      "     ***\n",
      "    *****\n",
      "   *******\n",
      "  *********\n",
      " ***********\n"
     ]
    }
   ],
   "source": [
    "# advanced star pattern\n",
    "#   *\n",
    "#  ***\n",
    "# *****\n",
    "for j in range(0,13):\n",
    "    elif j%2!=0:\n",
    "        print(' '*int((13-j)/2),end='')\n",
    "        print('*'*j)"
   ]
  },
  {
   "cell_type": "code",
   "execution_count": 42,
   "metadata": {},
   "outputs": [
    {
     "name": "stdout",
     "output_type": "stream",
     "text": [
      "\n",
      "\n",
      "\n",
      "\n",
      "1\n",
      "\n",
      "12\n",
      "\n",
      "123\n",
      "\n"
     ]
    }
   ],
   "source": []
  },
  {
   "cell_type": "markdown",
   "metadata": {},
   "source": [
    "## functions"
   ]
  },
  {
   "cell_type": "markdown",
   "metadata": {},
   "source": [
    "### basic functions"
   ]
  },
  {
   "cell_type": "code",
   "execution_count": 12,
   "metadata": {},
   "outputs": [
    {
     "name": "stdout",
     "output_type": "stream",
     "text": [
      "10\n"
     ]
    },
    {
     "data": {
      "text/plain": [
       "7"
      ]
     },
     "execution_count": 12,
     "metadata": {},
     "output_type": "execute_result"
    }
   ],
   "source": [
    "def function_name(a,b,c='rhydham'):\n",
    "    print(a,b,c)#--> only work\n",
    "    return a,b,c #--> returned thing can be stored in variable\n",
    "# function_name(2,2)   "
   ]
  },
  {
   "cell_type": "markdown",
   "metadata": {},
   "source": [
    "### recursions"
   ]
  },
  {
   "cell_type": "code",
   "execution_count": 14,
   "metadata": {},
   "outputs": [
    {
     "data": {
      "text/plain": [
       "120"
      ]
     },
     "execution_count": 14,
     "metadata": {},
     "output_type": "execute_result"
    }
   ],
   "source": [
    "# recursion := when a function is called in itself\n",
    "# 5! = return 5*4!--> factorial(5)=5*24 = 120\n",
    "# 4! = return 4*3!--> factorial(4)=4*6 = 24\n",
    "# 3! = return 3*2!--> factorial(3)=3*2 = 6\n",
    "# 2! = return 2*1!--):> factorial(2)=2*1 = 2\n",
    "def factorial(number):\n",
    "    elif number==1 or number==0:\n",
    "        return 1\n",
    "    return number*factorial(number-1)\n",
    "factorial(5)"
   ]
  },
  {
   "cell_type": "code",
   "execution_count": 15,
   "metadata": {},
   "outputs": [
    {
     "name": "stdout",
     "output_type": "stream",
     "text": [
      "55\n"
     ]
    }
   ],
   "source": [
    "# write a program to find sum of n natural numbers\n",
    "# sum(5) = 5+sum(4) = 10+5\n",
    "# sum(4) = 4+sum(3) = 4+6\n",
    "# sum(3) = 3+sum(2) = 3+3\n",
    "# sum(2) = 2+sum(1) = 2+1 = 3\n",
    "# sum(1) = 1\n",
    "def sumOfFirstNNaturalNumbers(n):\n",
    "    elif n==1:\n",
    "        return 1\n",
    "    return n+sumOfFirstNNaturalNumbers(n-1)\n",
    "print(sumOfFirstNNaturalNumbers(10))"
   ]
  },
  {
   "cell_type": "code",
   "execution_count": null,
   "metadata": {},
   "outputs": [],
   "source": []
  },
  {
   "cell_type": "markdown",
   "metadata": {},
   "source": [
    "## random module revision "
   ]
  },
  {
   "cell_type": "markdown",
   "metadata": {},
   "source": [
    "### random.randint function"
   ]
  },
  {
   "cell_type": "code",
   "execution_count": 27,
   "metadata": {},
   "outputs": [
    {
     "name": "stdout",
     "output_type": "stream",
     "text": [
      "6\n",
      "hduhuisd\n"
     ]
    }
   ],
   "source": [
    "from random import randint,choice\n",
    "print(randint(2,9))"
   ]
  },
  {
   "cell_type": "markdown",
   "metadata": {},
   "source": [
    "### random.choice function"
   ]
  },
  {
   "cell_type": "code",
   "execution_count": null,
   "metadata": {},
   "outputs": [],
   "source": [
    "myList = ['hushf','hjkshs','hduhuisd']\n",
    "print(choice(myList))"
   ]
  },
  {
   "cell_type": "markdown",
   "metadata": {},
   "source": [
    "## stone paper scissor project "
   ]
  },
  {
   "cell_type": "code",
   "execution_count": 33,
   "metadata": {},
   "outputs": [
    {
     "name": "stdout",
     "output_type": "stream",
     "text": [
      "computer chose stone and user chose stone\n",
      "match draw\n"
     ]
    }
   ],
   "source": [
    "# userinput , mylist ,choice function,elif -elif-else\n",
    "gameParameters = ['stone','paper','scissor']\n",
    "computerTurn = choice(gameParameters)\n",
    "userTurn = input(\"stone paper or scissors?\\n\")\n",
    "if computerTurn=='stone' and userTurn=='stone':\n",
    "    print(f'computer chose {computerTurn} and user chose {userTurn}')\n",
    "    print('match draw')\n",
    "elif computerTurn=='scissor' and userTurn=='scissor':\n",
    "    print(f'computer chose {computerTurn} and user chose {userTurn}')\n",
    "    print('match draw')\n",
    "elif computerTurn=='paper' and userTurn=='paper':\n",
    "    print(f'computer chose {computerTurn} and user chose {userTurn}')\n",
    "    print('match draw')\n",
    "\n",
    "elif computerTurn=='stone' and userTurn=='paper':\n",
    "    print(f'computer chose {computerTurn} and user chose {userTurn}')\n",
    "    print('user wins')\n",
    "elif computerTurn=='stone' and userTurn=='scissor':\n",
    "    print(f'computer chose {computerTurn} and user chose {userTurn}')\n",
    "    print('computer wins')\n",
    "\n",
    "elif computerTurn=='paper' and userTurn=='stone':\n",
    "    print(f'computer chose {computerTurn} and user chose {userTurn}')\n",
    "    print('computer wins')\n",
    "elif computerTurn=='paper' and userTurn=='scissor':\n",
    "    print(f'computer chose {computerTurn} and user chose {userTurn}')\n",
    "    print('user wins')\n",
    "\n",
    "elif computerTurn=='scissor' and userTurn=='paper':\n",
    "    print(f'computer chose {computerTurn} and user chose {userTurn}')\n",
    "    print('computer wins')\n",
    "elif computerTurn=='scissor' and userTurn=='stone':\n",
    "    print(f'computer chose {computerTurn} and user chose {userTurn}')\n",
    "    print('user wins')\n"
   ]
  },
  {
   "cell_type": "markdown",
   "metadata": {},
   "source": [
    "## file I/O"
   ]
  },
  {
   "cell_type": "markdown",
   "metadata": {},
   "source": [
    "open(file, mode)\tOpens a file and returns a file object. file is the path or file descriptor,\n",
    " mode specifies the file access mode ('r' for read, 'w' for write, 'a' for append, etc.).\n",
    "file.read(size=-1)\tReads at most size bytes from the file (or until EOF elif size is negative).\n",
    "file.readline(size=-1)\tReads one entire line from the file (or up to size bytes).\n",
    "file.readlines(sizehint=-1)\tReads all lines until EOF and returns a list where each element is a line from the file.\n",
    "file.write(string)\tWrites string to the file.\n",
    "file.writelines(lines)\tWrites a list of lines to the file.\n",
    "file.close()\tCloses the file."
   ]
  },
  {
   "cell_type": "markdown",
   "metadata": {},
   "source": [
    "### text file"
   ]
  },
  {
   "cell_type": "code",
   "execution_count": 26,
   "metadata": {},
   "outputs": [],
   "source": [
    "# file read and write krna\n",
    "# open function open('filename',mode)\n",
    "# mode = r(read),w(write),a(append)\n",
    "f = open('intro.txt','r')\n",
    "# file.read(function)\n",
    "# print(f.read())\n",
    "# file.readline function only phirsat line\n",
    "# print(f.readline())\n",
    "myList = f.readlines()\n",
    "#  f.close()#\n",
    "# with open('intro.txt','r') as f:\n",
    "#     print(f.read())\n",
    "# with open('intro.txt','w') as w:\n",
    "#     w.writelines('my name is rhydham')\n",
    "with open('intro.txt','a') as a:\n",
    "    a.writelines('\\nhello kuttiye')"
   ]
  },
  {
   "cell_type": "markdown",
   "metadata": {},
   "source": [
    "#### reading the file"
   ]
  },
  {
   "cell_type": "markdown",
   "metadata": {},
   "source": [
    "#### writing the file"
   ]
  },
  {
   "cell_type": "markdown",
   "metadata": {},
   "source": [
    "### other"
   ]
  },
  {
   "cell_type": "markdown",
   "metadata": {},
   "source": [
    "## classes (OOPs)"
   ]
  },
  {
   "cell_type": "code",
   "execution_count": 7,
   "metadata": {},
   "outputs": [
    {
     "name": "stdout",
     "output_type": "stream",
     "text": [
      "khushi arora\n"
     ]
    }
   ],
   "source": [
    "# classes :- a group conatining set of functions\n",
    "class Human:# when naming a clas first letter is always taken capital\n",
    "   pass\n",
    "\n",
    "\n",
    "living = Human()# object banana uss class ka\n",
    "living.name = 'khushi'\n",
    "living.surname = 'arora'\n",
    "print(living.name,living.surname)"
   ]
  },
  {
   "cell_type": "markdown",
   "metadata": {},
   "source": [
    "### objects and all"
   ]
  },
  {
   "cell_type": "markdown",
   "metadata": {},
   "source": [
    "### self parameter"
   ]
  },
  {
   "cell_type": "code",
   "execution_count": 1,
   "metadata": {},
   "outputs": [
    {
     "name": "stdout",
     "output_type": "stream",
     "text": [
      "rhydham mittal 18\n"
     ]
    }
   ],
   "source": [
    "class HumanL:# jekr apa class de andr he object nu call krna hai onu self kya jaanda hai\n",
    "    name = ''\n",
    "    surname = ''\n",
    "    age = 0\n",
    "    def __init__(self,nam,surnam,ag):\n",
    "        self.name = nam\n",
    "        self.age = ag\n",
    "        self.surname = surnam \n",
    "    def showData(self):\n",
    "        print(self.name,self.surname,self.age)\n",
    "rhydham = HumanL('rhydham','mittal',18)\n",
    "rhydham.showData()"
   ]
  },
  {
   "cell_type": "markdown",
   "metadata": {},
   "source": [
    "### static method"
   ]
  },
  {
   "cell_type": "markdown",
   "metadata": {},
   "source": [
    "### inheritance"
   ]
  },
  {
   "cell_type": "markdown",
   "metadata": {},
   "source": [
    "## Datetime module"
   ]
  },
  {
   "cell_type": "markdown",
   "metadata": {},
   "source": [
    "## guessing the number game"
   ]
  },
  {
   "cell_type": "markdown",
   "metadata": {},
   "source": [
    "## advanced python"
   ]
  },
  {
   "cell_type": "markdown",
   "metadata": {},
   "source": [
    "### walrus operator"
   ]
  },
  {
   "cell_type": "markdown",
   "metadata": {},
   "source": [
    "### type declaration"
   ]
  },
  {
   "cell_type": "markdown",
   "metadata": {},
   "source": [
    "### match case (switch statemnt in cpp/c)"
   ]
  },
  {
   "cell_type": "markdown",
   "metadata": {},
   "source": [
    "### try except"
   ]
  },
  {
   "cell_type": "markdown",
   "metadata": {},
   "source": [
    "### main function in python"
   ]
  }
 ],
 "metadata": {
  "kernelspec": {
   "display_name": "Python 3",
   "language": "python",
   "name": "python3"
  },
  "language_info": {
   "codemirror_mode": {
    "name": "ipython",
    "version": 3
   },
   "file_extension": ".py",
   "mimetype": "text/x-python",
   "name": "python",
   "nbconvert_exporter": "python",
   "pygments_lexer": "ipython3",
   "version": "3.10.12"
  }
 },
 "nbformat": 4,
 "nbformat_minor": 2
}
